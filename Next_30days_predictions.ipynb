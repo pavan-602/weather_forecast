{
 "cells": [
  {
   "cell_type": "markdown",
   "metadata": {},
   "source": [
    "## Weather forecasting using LSTM"
   ]
  },
  {
   "cell_type": "markdown",
   "metadata": {},
   "source": [
    "#### In this project we are going to use weather dataset for time series forecasting and we are predicting future 30 days weather by using LSTM"
   ]
  },
  {
   "cell_type": "markdown",
   "metadata": {},
   "source": [
    "Time series analysis is a statistical method to analyse the past data within a given duration of time to forecast the future. It comprises of ordered sequence of data at equally spaced interval.To understand the time series data & the analysis let us consider an example. Consider an example of Airline Passenger data. It has the count of passenger over a period of time.\n",
    "\n"
   ]
  },
  {
   "cell_type": "code",
   "execution_count": 1,
   "metadata": {},
   "outputs": [],
   "source": [
    "import pandas as pd\n",
    "import pandas as pd\n",
    "import numpy as np \n",
    "import seaborn as sns\n",
    "import matplotlib.pyplot as plt\n",
    "%matplotlib inline\n",
    "\n",
    "import warnings\n",
    "warnings.filterwarnings('ignore')\n"
   ]
  },
  {
   "cell_type": "code",
   "execution_count": 2,
   "metadata": {},
   "outputs": [
    {
     "data": {
      "text/html": [
       "<div>\n",
       "<style scoped>\n",
       "    .dataframe tbody tr th:only-of-type {\n",
       "        vertical-align: middle;\n",
       "    }\n",
       "\n",
       "    .dataframe tbody tr th {\n",
       "        vertical-align: top;\n",
       "    }\n",
       "\n",
       "    .dataframe thead th {\n",
       "        text-align: right;\n",
       "    }\n",
       "</style>\n",
       "<table border=\"1\" class=\"dataframe\">\n",
       "  <thead>\n",
       "    <tr style=\"text-align: right;\">\n",
       "      <th></th>\n",
       "      <th>date_time</th>\n",
       "      <th>maxtempC</th>\n",
       "      <th>mintempC</th>\n",
       "      <th>totalSnow_cm</th>\n",
       "      <th>sunHour</th>\n",
       "      <th>uvIndex</th>\n",
       "      <th>uvIndex.1</th>\n",
       "      <th>moon_illumination</th>\n",
       "      <th>moonrise</th>\n",
       "      <th>moonset</th>\n",
       "      <th>...</th>\n",
       "      <th>WindChillC</th>\n",
       "      <th>WindGustKmph</th>\n",
       "      <th>cloudcover</th>\n",
       "      <th>humidity</th>\n",
       "      <th>precipMM</th>\n",
       "      <th>pressure</th>\n",
       "      <th>tempC</th>\n",
       "      <th>visibility</th>\n",
       "      <th>winddirDegree</th>\n",
       "      <th>windspeedKmph</th>\n",
       "    </tr>\n",
       "  </thead>\n",
       "  <tbody>\n",
       "    <tr>\n",
       "      <th>0</th>\n",
       "      <td>2009-01-01 00:00:00</td>\n",
       "      <td>24</td>\n",
       "      <td>10</td>\n",
       "      <td>0.0</td>\n",
       "      <td>8.7</td>\n",
       "      <td>4</td>\n",
       "      <td>1</td>\n",
       "      <td>31</td>\n",
       "      <td>09:56 AM</td>\n",
       "      <td>09:45 PM</td>\n",
       "      <td>...</td>\n",
       "      <td>11</td>\n",
       "      <td>21</td>\n",
       "      <td>17</td>\n",
       "      <td>50</td>\n",
       "      <td>0.0</td>\n",
       "      <td>1015</td>\n",
       "      <td>11</td>\n",
       "      <td>10</td>\n",
       "      <td>320</td>\n",
       "      <td>10</td>\n",
       "    </tr>\n",
       "    <tr>\n",
       "      <th>1</th>\n",
       "      <td>2009-01-01 01:00:00</td>\n",
       "      <td>24</td>\n",
       "      <td>10</td>\n",
       "      <td>0.0</td>\n",
       "      <td>8.7</td>\n",
       "      <td>4</td>\n",
       "      <td>1</td>\n",
       "      <td>31</td>\n",
       "      <td>09:56 AM</td>\n",
       "      <td>09:45 PM</td>\n",
       "      <td>...</td>\n",
       "      <td>12</td>\n",
       "      <td>22</td>\n",
       "      <td>11</td>\n",
       "      <td>52</td>\n",
       "      <td>0.0</td>\n",
       "      <td>1015</td>\n",
       "      <td>11</td>\n",
       "      <td>10</td>\n",
       "      <td>315</td>\n",
       "      <td>11</td>\n",
       "    </tr>\n",
       "    <tr>\n",
       "      <th>2</th>\n",
       "      <td>2009-01-01 02:00:00</td>\n",
       "      <td>24</td>\n",
       "      <td>10</td>\n",
       "      <td>0.0</td>\n",
       "      <td>8.7</td>\n",
       "      <td>4</td>\n",
       "      <td>1</td>\n",
       "      <td>31</td>\n",
       "      <td>09:56 AM</td>\n",
       "      <td>09:45 PM</td>\n",
       "      <td>...</td>\n",
       "      <td>12</td>\n",
       "      <td>23</td>\n",
       "      <td>6</td>\n",
       "      <td>55</td>\n",
       "      <td>0.0</td>\n",
       "      <td>1015</td>\n",
       "      <td>11</td>\n",
       "      <td>10</td>\n",
       "      <td>310</td>\n",
       "      <td>11</td>\n",
       "    </tr>\n",
       "    <tr>\n",
       "      <th>3</th>\n",
       "      <td>2009-01-01 03:00:00</td>\n",
       "      <td>24</td>\n",
       "      <td>10</td>\n",
       "      <td>0.0</td>\n",
       "      <td>8.7</td>\n",
       "      <td>4</td>\n",
       "      <td>1</td>\n",
       "      <td>31</td>\n",
       "      <td>09:56 AM</td>\n",
       "      <td>09:45 PM</td>\n",
       "      <td>...</td>\n",
       "      <td>12</td>\n",
       "      <td>23</td>\n",
       "      <td>0</td>\n",
       "      <td>57</td>\n",
       "      <td>0.0</td>\n",
       "      <td>1015</td>\n",
       "      <td>10</td>\n",
       "      <td>10</td>\n",
       "      <td>304</td>\n",
       "      <td>12</td>\n",
       "    </tr>\n",
       "    <tr>\n",
       "      <th>4</th>\n",
       "      <td>2009-01-01 04:00:00</td>\n",
       "      <td>24</td>\n",
       "      <td>10</td>\n",
       "      <td>0.0</td>\n",
       "      <td>8.7</td>\n",
       "      <td>4</td>\n",
       "      <td>1</td>\n",
       "      <td>31</td>\n",
       "      <td>09:56 AM</td>\n",
       "      <td>09:45 PM</td>\n",
       "      <td>...</td>\n",
       "      <td>14</td>\n",
       "      <td>19</td>\n",
       "      <td>0</td>\n",
       "      <td>54</td>\n",
       "      <td>0.0</td>\n",
       "      <td>1016</td>\n",
       "      <td>11</td>\n",
       "      <td>10</td>\n",
       "      <td>302</td>\n",
       "      <td>11</td>\n",
       "    </tr>\n",
       "  </tbody>\n",
       "</table>\n",
       "<p>5 rows × 25 columns</p>\n",
       "</div>"
      ],
      "text/plain": [
       "             date_time  maxtempC  mintempC  totalSnow_cm  sunHour  uvIndex  \\\n",
       "0  2009-01-01 00:00:00        24        10           0.0      8.7        4   \n",
       "1  2009-01-01 01:00:00        24        10           0.0      8.7        4   \n",
       "2  2009-01-01 02:00:00        24        10           0.0      8.7        4   \n",
       "3  2009-01-01 03:00:00        24        10           0.0      8.7        4   \n",
       "4  2009-01-01 04:00:00        24        10           0.0      8.7        4   \n",
       "\n",
       "   uvIndex.1  moon_illumination  moonrise   moonset  ... WindChillC  \\\n",
       "0          1                 31  09:56 AM  09:45 PM  ...         11   \n",
       "1          1                 31  09:56 AM  09:45 PM  ...         12   \n",
       "2          1                 31  09:56 AM  09:45 PM  ...         12   \n",
       "3          1                 31  09:56 AM  09:45 PM  ...         12   \n",
       "4          1                 31  09:56 AM  09:45 PM  ...         14   \n",
       "\n",
       "  WindGustKmph  cloudcover  humidity  precipMM  pressure  tempC  visibility  \\\n",
       "0           21          17        50       0.0      1015     11          10   \n",
       "1           22          11        52       0.0      1015     11          10   \n",
       "2           23           6        55       0.0      1015     11          10   \n",
       "3           23           0        57       0.0      1015     10          10   \n",
       "4           19           0        54       0.0      1016     11          10   \n",
       "\n",
       "   winddirDegree  windspeedKmph  \n",
       "0            320             10  \n",
       "1            315             11  \n",
       "2            310             11  \n",
       "3            304             12  \n",
       "4            302             11  \n",
       "\n",
       "[5 rows x 25 columns]"
      ]
     },
     "execution_count": 2,
     "metadata": {},
     "output_type": "execute_result"
    }
   ],
   "source": [
    "df= pd.read_csv('dataset.csv')\n",
    "df.head()\n"
   ]
  },
  {
   "cell_type": "code",
   "execution_count": 3,
   "metadata": {},
   "outputs": [],
   "source": [
    "data = pd.DataFrame(list(df['tempC']), index=df['date_time'], columns=['temp'])"
   ]
  },
  {
   "cell_type": "code",
   "execution_count": 4,
   "metadata": {},
   "outputs": [
    {
     "data": {
      "text/html": [
       "<div>\n",
       "<style scoped>\n",
       "    .dataframe tbody tr th:only-of-type {\n",
       "        vertical-align: middle;\n",
       "    }\n",
       "\n",
       "    .dataframe tbody tr th {\n",
       "        vertical-align: top;\n",
       "    }\n",
       "\n",
       "    .dataframe thead th {\n",
       "        text-align: right;\n",
       "    }\n",
       "</style>\n",
       "<table border=\"1\" class=\"dataframe\">\n",
       "  <thead>\n",
       "    <tr style=\"text-align: right;\">\n",
       "      <th></th>\n",
       "      <th>temp</th>\n",
       "    </tr>\n",
       "    <tr>\n",
       "      <th>date_time</th>\n",
       "      <th></th>\n",
       "    </tr>\n",
       "  </thead>\n",
       "  <tbody>\n",
       "    <tr>\n",
       "      <th>2009-01-01 00:00:00</th>\n",
       "      <td>11</td>\n",
       "    </tr>\n",
       "    <tr>\n",
       "      <th>2009-01-01 01:00:00</th>\n",
       "      <td>11</td>\n",
       "    </tr>\n",
       "    <tr>\n",
       "      <th>2009-01-01 02:00:00</th>\n",
       "      <td>11</td>\n",
       "    </tr>\n",
       "    <tr>\n",
       "      <th>2009-01-01 03:00:00</th>\n",
       "      <td>10</td>\n",
       "    </tr>\n",
       "    <tr>\n",
       "      <th>2009-01-01 04:00:00</th>\n",
       "      <td>11</td>\n",
       "    </tr>\n",
       "    <tr>\n",
       "      <th>...</th>\n",
       "      <td>...</td>\n",
       "    </tr>\n",
       "    <tr>\n",
       "      <th>2020-01-01 19:00:00</th>\n",
       "      <td>13</td>\n",
       "    </tr>\n",
       "    <tr>\n",
       "      <th>2020-01-01 20:00:00</th>\n",
       "      <td>13</td>\n",
       "    </tr>\n",
       "    <tr>\n",
       "      <th>2020-01-01 21:00:00</th>\n",
       "      <td>13</td>\n",
       "    </tr>\n",
       "    <tr>\n",
       "      <th>2020-01-01 22:00:00</th>\n",
       "      <td>13</td>\n",
       "    </tr>\n",
       "    <tr>\n",
       "      <th>2020-01-01 23:00:00</th>\n",
       "      <td>12</td>\n",
       "    </tr>\n",
       "  </tbody>\n",
       "</table>\n",
       "<p>96432 rows × 1 columns</p>\n",
       "</div>"
      ],
      "text/plain": [
       "                     temp\n",
       "date_time                \n",
       "2009-01-01 00:00:00    11\n",
       "2009-01-01 01:00:00    11\n",
       "2009-01-01 02:00:00    11\n",
       "2009-01-01 03:00:00    10\n",
       "2009-01-01 04:00:00    11\n",
       "...                   ...\n",
       "2020-01-01 19:00:00    13\n",
       "2020-01-01 20:00:00    13\n",
       "2020-01-01 21:00:00    13\n",
       "2020-01-01 22:00:00    13\n",
       "2020-01-01 23:00:00    12\n",
       "\n",
       "[96432 rows x 1 columns]"
      ]
     },
     "execution_count": 4,
     "metadata": {},
     "output_type": "execute_result"
    }
   ],
   "source": [
    "data"
   ]
  },
  {
   "cell_type": "markdown",
   "metadata": {},
   "source": [
    "Now we are using only data for 365 days"
   ]
  },
  {
   "cell_type": "code",
   "execution_count": 5,
   "metadata": {},
   "outputs": [],
   "source": [
    "df=data[:365]"
   ]
  },
  {
   "cell_type": "code",
   "execution_count": 6,
   "metadata": {
    "scrolled": true
   },
   "outputs": [
    {
     "data": {
      "text/plain": [
       "(365, 1)"
      ]
     },
     "execution_count": 6,
     "metadata": {},
     "output_type": "execute_result"
    }
   ],
   "source": [
    "df.shape"
   ]
  },
  {
   "cell_type": "code",
   "execution_count": 7,
   "metadata": {},
   "outputs": [
    {
     "data": {
      "text/plain": [
       "temp    0\n",
       "dtype: int64"
      ]
     },
     "execution_count": 7,
     "metadata": {},
     "output_type": "execute_result"
    }
   ],
   "source": [
    "df.isnull().sum()"
   ]
  },
  {
   "cell_type": "code",
   "execution_count": 8,
   "metadata": {},
   "outputs": [],
   "source": [
    "df=df.dropna(axis=0)"
   ]
  },
  {
   "cell_type": "code",
   "execution_count": 9,
   "metadata": {},
   "outputs": [
    {
     "data": {
      "text/plain": [
       "(365, 1)"
      ]
     },
     "execution_count": 9,
     "metadata": {},
     "output_type": "execute_result"
    }
   ],
   "source": [
    "df.shape"
   ]
  },
  {
   "cell_type": "code",
   "execution_count": 10,
   "metadata": {},
   "outputs": [],
   "source": [
    "df=df['temp'].values"
   ]
  },
  {
   "cell_type": "code",
   "execution_count": 11,
   "metadata": {},
   "outputs": [
    {
     "data": {
      "text/plain": [
       "array([11, 11, 11, 10, 11], dtype=int64)"
      ]
     },
     "execution_count": 11,
     "metadata": {},
     "output_type": "execute_result"
    }
   ],
   "source": [
    "df[:5]"
   ]
  },
  {
   "cell_type": "code",
   "execution_count": 12,
   "metadata": {},
   "outputs": [],
   "source": [
    "df=df.reshape(-1,1)"
   ]
  },
  {
   "cell_type": "code",
   "execution_count": 13,
   "metadata": {},
   "outputs": [
    {
     "data": {
      "image/png": "[encoded data removed]",
      "text/plain": [
       "<Figure size 2500x700 with 1 Axes>"
      ]
     },
     "metadata": {},
     "output_type": "display_data"
    }
   ],
   "source": [
    "plt.figure(figsize=(25, 7))\n",
    "plt.plot(df, linewidth=1)\n",
    "# plt.grid()\n",
    "plt.title(\"Time Series (temperature month wise for 1 year)\")\n",
    "plt.show()"
   ]
  },
  {
   "cell_type": "markdown",
   "metadata": {},
   "source": [
    "#### Scaling data "
   ]
  },
  {
   "cell_type": "code",
   "execution_count": 14,
   "metadata": {},
   "outputs": [],
   "source": [
    "from sklearn.preprocessing import MinMaxScaler\n",
    "scaler = MinMaxScaler(feature_range=(0, 1))\n",
    "data_scaled = scaler.fit_transform(df)"
   ]
  },
  {
   "cell_type": "code",
   "execution_count": 15,
   "metadata": {},
   "outputs": [
    {
     "data": {
      "text/plain": [
       "array([[0.25],\n",
       "       [0.25],\n",
       "       [0.25],\n",
       "       [0.2 ],\n",
       "       [0.25]])"
      ]
     },
     "execution_count": 15,
     "metadata": {},
     "output_type": "execute_result"
    }
   ],
   "source": [
    "data_scaled[:5]"
   ]
  },
  {
   "cell_type": "code",
   "execution_count": 16,
   "metadata": {},
   "outputs": [
    {
     "data": {
      "text/plain": [
       "(365, 1)"
      ]
     },
     "execution_count": 16,
     "metadata": {},
     "output_type": "execute_result"
    }
   ],
   "source": [
    "data_scaled.shape"
   ]
  },
  {
   "cell_type": "code",
   "execution_count": null,
   "metadata": {},
   "outputs": [],
   "source": []
  },
  {
   "cell_type": "code",
   "execution_count": 17,
   "metadata": {},
   "outputs": [],
   "source": [
    "steps= 20\n",
    "inp = []\n",
    "out = []\n",
    "for i in range(len(data_scaled) - (steps)):\n",
    "    inp.append(data_scaled[i:i+steps])\n",
    "    out.append(data_scaled[i+steps])"
   ]
  },
  {
   "cell_type": "code",
   "execution_count": null,
   "metadata": {},
   "outputs": [],
   "source": []
  },
  {
   "cell_type": "code",
   "execution_count": 18,
   "metadata": {},
   "outputs": [
    {
     "data": {
      "text/plain": [
       "[array([0.25]),\n",
       " array([0.2]),\n",
       " array([0.2]),\n",
       " array([0.2]),\n",
       " array([0.2]),\n",
       " array([0.15]),\n",
       " array([0.1]),\n",
       " array([0.]),\n",
       " array([0.15]),\n",
       " array([0.3])]"
      ]
     },
     "execution_count": 18,
     "metadata": {},
     "output_type": "execute_result"
    }
   ],
   "source": [
    "out[:10]"
   ]
  },
  {
   "cell_type": "markdown",
   "metadata": {},
   "source": [
    "reshape "
   ]
  },
  {
   "cell_type": "code",
   "execution_count": 19,
   "metadata": {},
   "outputs": [],
   "source": [
    "import numpy as np"
   ]
  },
  {
   "cell_type": "code",
   "execution_count": 20,
   "metadata": {},
   "outputs": [],
   "source": [
    "inp= np.asanyarray(inp)\n",
    "out= np.asanyarray(out)"
   ]
  },
  {
   "cell_type": "code",
   "execution_count": 21,
   "metadata": {},
   "outputs": [
    {
     "data": {
      "text/plain": [
       "237.25"
      ]
     },
     "execution_count": 21,
     "metadata": {},
     "output_type": "execute_result"
    }
   ],
   "source": [
    "len(df)*0.65"
   ]
  },
  {
   "cell_type": "code",
   "execution_count": 22,
   "metadata": {},
   "outputs": [],
   "source": [
    "x_train = inp[:237,:,:]\n",
    "x_test = inp[237:,:,:]    \n",
    "y_train = out[:237]    \n",
    "y_test= out[237:]"
   ]
  },
  {
   "cell_type": "code",
   "execution_count": 23,
   "metadata": {},
   "outputs": [
    {
     "data": {
      "text/plain": [
       "(345, 20, 1)"
      ]
     },
     "execution_count": 23,
     "metadata": {},
     "output_type": "execute_result"
    }
   ],
   "source": [
    "inp.shape"
   ]
  },
  {
   "cell_type": "code",
   "execution_count": 24,
   "metadata": {},
   "outputs": [
    {
     "data": {
      "text/plain": [
       "(237, 20, 1)"
      ]
     },
     "execution_count": 24,
     "metadata": {},
     "output_type": "execute_result"
    }
   ],
   "source": [
    "x_train.shape"
   ]
  },
  {
   "cell_type": "code",
   "execution_count": 25,
   "metadata": {},
   "outputs": [
    {
     "data": {
      "text/plain": [
       "(108, 20, 1)"
      ]
     },
     "execution_count": 25,
     "metadata": {},
     "output_type": "execute_result"
    }
   ],
   "source": [
    "x_test.shape"
   ]
  },
  {
   "cell_type": "markdown",
   "metadata": {},
   "source": [
    "### importing neccesary libraries"
   ]
  },
  {
   "cell_type": "code",
   "execution_count": 26,
   "metadata": {},
   "outputs": [],
   "source": [
    "import matplotlib.pyplot as plt\n",
    "import seaborn as sns\n",
    "from tensorflow.keras.layers import Dense,RepeatVector, LSTM, Dropout\n",
    "from tensorflow.keras.layers import Flatten, Conv1D, MaxPooling1D\n",
    "from tensorflow.keras.layers import Bidirectional, Dropout\n",
    "from tensorflow.keras.models import Sequential\n",
    "from tensorflow.keras.utils import plot_model"
   ]
  },
  {
   "cell_type": "markdown",
   "metadata": {},
   "source": [
    "### Model Building"
   ]
  },
  {
   "cell_type": "code",
   "execution_count": 27,
   "metadata": {},
   "outputs": [],
   "source": [
    "model = Sequential()\n",
    "model.add(LSTM(50, return_sequences= True, input_shape= (20,1)))\n",
    "model.add(LSTM(50, return_sequences=True))\n",
    "model.add(LSTM(50))\n",
    "model.add(Dense(1))\n",
    "model.compile(loss = 'mean_squared_error', optimizer = 'adam')\n",
    "model = Sequential()\n",
    "model.add(LSTM(50, return_sequences= True, input_shape= (20,1)))\n",
    "model.add(LSTM(50, return_sequences=True))\n",
    "model.add(LSTM(50))\n",
    "model.add(Dense(1))\n",
    "model.compile(loss = 'mean_squared_error', optimizer = 'adam')\n",
    "\n",
    "\n",
    "\n",
    "\n",
    "\n"
   ]
  },
  {
   "cell_type": "code",
   "execution_count": 28,
   "metadata": {
    "scrolled": true
   },
   "outputs": [
    {
     "name": "stdout",
     "output_type": "stream",
     "text": [
      "Epoch 1/300\n",
      "8/8 [==============================] - 9s 45ms/step - loss: 0.2127\n",
      "Epoch 2/300\n",
      "8/8 [==============================] - 0s 46ms/step - loss: 0.0760\n",
      "Epoch 3/300\n",
      "8/8 [==============================] - 0s 55ms/step - loss: 0.0669\n",
      "Epoch 4/300\n",
      "8/8 [==============================] - 0s 50ms/step - loss: 0.0607\n",
      "Epoch 5/300\n",
      "8/8 [==============================] - 0s 45ms/step - loss: 0.0579\n",
      "Epoch 6/300\n",
      "8/8 [==============================] - 0s 44ms/step - loss: 0.0555\n",
      "Epoch 7/300\n",
      "8/8 [==============================] - 0s 33ms/step - loss: 0.0538\n",
      "Epoch 8/300\n",
      "8/8 [==============================] - 0s 39ms/step - loss: 0.0520\n",
      "Epoch 9/300\n",
      "8/8 [==============================] - 0s 39ms/step - loss: 0.0499\n",
      "Epoch 10/300\n",
      "8/8 [==============================] - 0s 32ms/step - loss: 0.0478\n",
      "Epoch 11/300\n",
      "8/8 [==============================] - 0s 31ms/step - loss: 0.0446\n",
      "Epoch 12/300\n",
      "8/8 [==============================] - 0s 32ms/step - loss: 0.0416\n",
      "Epoch 13/300\n",
      "8/8 [==============================] - 0s 31ms/step - loss: 0.0378\n",
      "Epoch 14/300\n",
      "8/8 [==============================] - 0s 31ms/step - loss: 0.0316\n",
      "Epoch 15/300\n",
      "8/8 [==============================] - 0s 31ms/step - loss: 0.0296\n",
      "Epoch 16/300\n",
      "8/8 [==============================] - 0s 32ms/step - loss: 0.0264\n",
      "Epoch 17/300\n",
      "8/8 [==============================] - 0s 32ms/step - loss: 0.0268\n",
      "Epoch 18/300\n",
      "8/8 [==============================] - 0s 33ms/step - loss: 0.0260\n",
      "Epoch 19/300\n",
      "8/8 [==============================] - 0s 31ms/step - loss: 0.0222\n",
      "Epoch 20/300\n",
      "8/8 [==============================] - 0s 35ms/step - loss: 0.0204\n",
      "Epoch 21/300\n",
      "8/8 [==============================] - 0s 33ms/step - loss: 0.0190\n",
      "Epoch 22/300\n",
      "8/8 [==============================] - 0s 33ms/step - loss: 0.0169\n",
      "Epoch 23/300\n",
      "8/8 [==============================] - 0s 33ms/step - loss: 0.0148\n",
      "Epoch 24/300\n",
      "8/8 [==============================] - 0s 33ms/step - loss: 0.0142\n",
      "Epoch 25/300\n",
      "8/8 [==============================] - 0s 33ms/step - loss: 0.0094\n",
      "Epoch 26/300\n",
      "8/8 [==============================] - 0s 33ms/step - loss: 0.0079\n",
      "Epoch 27/300\n",
      "8/8 [==============================] - 0s 31ms/step - loss: 0.0076\n",
      "Epoch 28/300\n",
      "8/8 [==============================] - 0s 33ms/step - loss: 0.0063\n",
      "Epoch 29/300\n",
      "8/8 [==============================] - 0s 32ms/step - loss: 0.0068\n",
      "Epoch 30/300\n",
      "8/8 [==============================] - 0s 34ms/step - loss: 0.0074\n",
      "Epoch 31/300\n",
      "8/8 [==============================] - 0s 38ms/step - loss: 0.0088\n",
      "Epoch 32/300\n",
      "8/8 [==============================] - 0s 36ms/step - loss: 0.0079\n",
      "Epoch 33/300\n",
      "8/8 [==============================] - 0s 35ms/step - loss: 0.0101\n",
      "Epoch 34/300\n",
      "8/8 [==============================] - 0s 32ms/step - loss: 0.0087\n",
      "Epoch 35/300\n",
      "8/8 [==============================] - 0s 31ms/step - loss: 0.0066\n",
      "Epoch 36/300\n",
      "8/8 [==============================] - 0s 32ms/step - loss: 0.0059\n",
      "Epoch 37/300\n",
      "8/8 [==============================] - 0s 33ms/step - loss: 0.0055\n",
      "Epoch 38/300\n",
      "8/8 [==============================] - 0s 38ms/step - loss: 0.0064\n",
      "Epoch 39/300\n",
      "8/8 [==============================] - 0s 33ms/step - loss: 0.0058\n",
      "Epoch 40/300\n",
      "8/8 [==============================] - 0s 31ms/step - loss: 0.0064\n",
      "Epoch 41/300\n",
      "8/8 [==============================] - 0s 34ms/step - loss: 0.0072\n",
      "Epoch 42/300\n",
      "8/8 [==============================] - 0s 33ms/step - loss: 0.0063\n",
      "Epoch 43/300\n",
      "8/8 [==============================] - 0s 32ms/step - loss: 0.0059\n",
      "Epoch 44/300\n",
      "8/8 [==============================] - 0s 32ms/step - loss: 0.0049\n",
      "Epoch 45/300\n",
      "8/8 [==============================] - 0s 33ms/step - loss: 0.0050\n",
      "Epoch 46/300\n",
      "8/8 [==============================] - 0s 31ms/step - loss: 0.0046\n",
      "Epoch 47/300\n",
      "8/8 [==============================] - 0s 47ms/step - loss: 0.0054\n",
      "Epoch 48/300\n",
      "8/8 [==============================] - 0s 31ms/step - loss: 0.0048\n",
      "Epoch 49/300\n",
      "8/8 [==============================] - 0s 33ms/step - loss: 0.0047\n",
      "Epoch 50/300\n",
      "8/8 [==============================] - 0s 31ms/step - loss: 0.0050\n",
      "Epoch 51/300\n",
      "8/8 [==============================] - 0s 31ms/step - loss: 0.0050\n",
      "Epoch 52/300\n",
      "8/8 [==============================] - 0s 31ms/step - loss: 0.0051\n",
      "Epoch 53/300\n",
      "8/8 [==============================] - 0s 35ms/step - loss: 0.0046\n",
      "Epoch 54/300\n",
      "8/8 [==============================] - 0s 33ms/step - loss: 0.0046\n",
      "Epoch 55/300\n",
      "8/8 [==============================] - 0s 31ms/step - loss: 0.0049\n",
      "Epoch 56/300\n",
      "8/8 [==============================] - 0s 32ms/step - loss: 0.0052\n",
      "Epoch 57/300\n",
      "8/8 [==============================] - 0s 31ms/step - loss: 0.0047\n",
      "Epoch 58/300\n",
      "8/8 [==============================] - 0s 31ms/step - loss: 0.0045\n",
      "Epoch 59/300\n",
      "8/8 [==============================] - 0s 32ms/step - loss: 0.0047\n",
      "Epoch 60/300\n",
      "8/8 [==============================] - 0s 32ms/step - loss: 0.0045\n",
      "Epoch 61/300\n",
      "8/8 [==============================] - 0s 32ms/step - loss: 0.0043\n",
      "Epoch 62/300\n",
      "8/8 [==============================] - 0s 34ms/step - loss: 0.0046\n",
      "Epoch 63/300\n",
      "8/8 [==============================] - 0s 32ms/step - loss: 0.0048\n",
      "Epoch 64/300\n",
      "8/8 [==============================] - 0s 31ms/step - loss: 0.0049\n",
      "Epoch 65/300\n",
      "8/8 [==============================] - 0s 32ms/step - loss: 0.0048\n",
      "Epoch 66/300\n",
      "8/8 [==============================] - 0s 32ms/step - loss: 0.0052\n",
      "Epoch 67/300\n",
      "8/8 [==============================] - 0s 32ms/step - loss: 0.0043\n",
      "Epoch 68/300\n",
      "8/8 [==============================] - 0s 31ms/step - loss: 0.0041\n",
      "Epoch 69/300\n",
      "8/8 [==============================] - 0s 32ms/step - loss: 0.0042\n",
      "Epoch 70/300\n",
      "8/8 [==============================] - 0s 31ms/step - loss: 0.0042\n",
      "Epoch 71/300\n",
      "8/8 [==============================] - 0s 33ms/step - loss: 0.0043\n",
      "Epoch 72/300\n",
      "8/8 [==============================] - 0s 32ms/step - loss: 0.0041\n",
      "Epoch 73/300\n",
      "8/8 [==============================] - 0s 31ms/step - loss: 0.0049\n",
      "Epoch 74/300\n",
      "8/8 [==============================] - 0s 32ms/step - loss: 0.0041\n",
      "Epoch 75/300\n",
      "8/8 [==============================] - 0s 32ms/step - loss: 0.0042\n",
      "Epoch 76/300\n",
      "8/8 [==============================] - 0s 32ms/step - loss: 0.0044\n",
      "Epoch 77/300\n",
      "8/8 [==============================] - 0s 32ms/step - loss: 0.0043\n",
      "Epoch 78/300\n",
      "8/8 [==============================] - 0s 31ms/step - loss: 0.0051\n",
      "Epoch 79/300\n",
      "8/8 [==============================] - 0s 33ms/step - loss: 0.0049\n",
      "Epoch 80/300\n",
      "8/8 [==============================] - 0s 31ms/step - loss: 0.0043\n",
      "Epoch 81/300\n",
      "8/8 [==============================] - 0s 32ms/step - loss: 0.0040\n",
      "Epoch 82/300\n",
      "8/8 [==============================] - 0s 32ms/step - loss: 0.0040\n",
      "Epoch 83/300\n",
      "8/8 [==============================] - 0s 35ms/step - loss: 0.0040\n",
      "Epoch 84/300\n",
      "8/8 [==============================] - 0s 31ms/step - loss: 0.0052\n",
      "Epoch 85/300\n",
      "8/8 [==============================] - 0s 31ms/step - loss: 0.0043\n",
      "Epoch 86/300\n",
      "8/8 [==============================] - 0s 31ms/step - loss: 0.0047\n",
      "Epoch 87/300\n",
      "8/8 [==============================] - 0s 33ms/step - loss: 0.0057\n",
      "Epoch 88/300\n",
      "8/8 [==============================] - 0s 32ms/step - loss: 0.0052\n",
      "Epoch 89/300\n",
      "8/8 [==============================] - 0s 32ms/step - loss: 0.0045\n",
      "Epoch 90/300\n",
      "8/8 [==============================] - 0s 32ms/step - loss: 0.0037\n",
      "Epoch 91/300\n",
      "8/8 [==============================] - 0s 32ms/step - loss: 0.0037\n",
      "Epoch 92/300\n",
      "8/8 [==============================] - 0s 32ms/step - loss: 0.0036\n",
      "Epoch 93/300\n",
      "8/8 [==============================] - 0s 32ms/step - loss: 0.0039\n",
      "Epoch 94/300\n",
      "8/8 [==============================] - 0s 31ms/step - loss: 0.0036\n",
      "Epoch 95/300\n",
      "8/8 [==============================] - 0s 32ms/step - loss: 0.0037\n",
      "Epoch 96/300\n",
      "8/8 [==============================] - 0s 32ms/step - loss: 0.0042\n",
      "Epoch 97/300\n",
      "8/8 [==============================] - 0s 34ms/step - loss: 0.0042\n",
      "Epoch 98/300\n",
      "8/8 [==============================] - 0s 33ms/step - loss: 0.0034\n",
      "Epoch 99/300\n",
      "8/8 [==============================] - 0s 32ms/step - loss: 0.0035\n",
      "Epoch 100/300\n",
      "8/8 [==============================] - 0s 32ms/step - loss: 0.0042\n",
      "Epoch 101/300\n",
      "8/8 [==============================] - 0s 35ms/step - loss: 0.0039\n",
      "Epoch 102/300\n",
      "8/8 [==============================] - 0s 32ms/step - loss: 0.0033\n",
      "Epoch 103/300\n",
      "8/8 [==============================] - 0s 32ms/step - loss: 0.0035\n",
      "Epoch 104/300\n",
      "8/8 [==============================] - 0s 31ms/step - loss: 0.0036\n",
      "Epoch 105/300\n",
      "8/8 [==============================] - 0s 31ms/step - loss: 0.0033\n",
      "Epoch 106/300\n",
      "8/8 [==============================] - 0s 32ms/step - loss: 0.0035\n",
      "Epoch 107/300\n",
      "8/8 [==============================] - 0s 31ms/step - loss: 0.0033\n",
      "Epoch 108/300\n",
      "8/8 [==============================] - 0s 31ms/step - loss: 0.0043\n",
      "Epoch 109/300\n",
      "8/8 [==============================] - 0s 32ms/step - loss: 0.0036\n",
      "Epoch 110/300\n",
      "8/8 [==============================] - 0s 31ms/step - loss: 0.0038\n",
      "Epoch 111/300\n",
      "8/8 [==============================] - 0s 32ms/step - loss: 0.0031\n",
      "Epoch 112/300\n",
      "8/8 [==============================] - 0s 31ms/step - loss: 0.0033\n",
      "Epoch 113/300\n",
      "8/8 [==============================] - 0s 32ms/step - loss: 0.0036\n",
      "Epoch 114/300\n",
      "8/8 [==============================] - 0s 31ms/step - loss: 0.0034\n",
      "Epoch 115/300\n",
      "8/8 [==============================] - 0s 31ms/step - loss: 0.0032\n",
      "Epoch 116/300\n",
      "8/8 [==============================] - 0s 31ms/step - loss: 0.0032\n",
      "Epoch 117/300\n",
      "8/8 [==============================] - 0s 31ms/step - loss: 0.0029\n",
      "Epoch 118/300\n",
      "8/8 [==============================] - 0s 31ms/step - loss: 0.0032\n",
      "Epoch 119/300\n",
      "8/8 [==============================] - 0s 31ms/step - loss: 0.0034\n",
      "Epoch 120/300\n",
      "8/8 [==============================] - 0s 31ms/step - loss: 0.0031\n",
      "Epoch 121/300\n",
      "8/8 [==============================] - 0s 31ms/step - loss: 0.0030\n",
      "Epoch 122/300\n",
      "8/8 [==============================] - 0s 31ms/step - loss: 0.0033\n",
      "Epoch 123/300\n",
      "8/8 [==============================] - 0s 31ms/step - loss: 0.0033\n",
      "Epoch 124/300\n",
      "8/8 [==============================] - 0s 31ms/step - loss: 0.0027\n",
      "Epoch 125/300\n",
      "8/8 [==============================] - 0s 31ms/step - loss: 0.0030\n",
      "Epoch 126/300\n",
      "8/8 [==============================] - 0s 31ms/step - loss: 0.0032\n",
      "Epoch 127/300\n",
      "8/8 [==============================] - 0s 31ms/step - loss: 0.0030\n",
      "Epoch 128/300\n",
      "8/8 [==============================] - 0s 31ms/step - loss: 0.0029\n",
      "Epoch 129/300\n",
      "8/8 [==============================] - 0s 31ms/step - loss: 0.0028\n",
      "Epoch 130/300\n",
      "8/8 [==============================] - 0s 31ms/step - loss: 0.0035\n",
      "Epoch 131/300\n",
      "8/8 [==============================] - 0s 32ms/step - loss: 0.0031\n",
      "Epoch 132/300\n",
      "8/8 [==============================] - 0s 31ms/step - loss: 0.0029\n",
      "Epoch 133/300\n",
      "8/8 [==============================] - 0s 31ms/step - loss: 0.0032\n",
      "Epoch 134/300\n",
      "8/8 [==============================] - 0s 31ms/step - loss: 0.0033\n",
      "Epoch 135/300\n",
      "8/8 [==============================] - 0s 31ms/step - loss: 0.0034\n",
      "Epoch 136/300\n",
      "8/8 [==============================] - 0s 31ms/step - loss: 0.0036\n",
      "Epoch 137/300\n",
      "8/8 [==============================] - 0s 32ms/step - loss: 0.0035\n",
      "Epoch 138/300\n",
      "8/8 [==============================] - 0s 31ms/step - loss: 0.0027\n",
      "Epoch 139/300\n",
      "8/8 [==============================] - 0s 31ms/step - loss: 0.0027\n",
      "Epoch 140/300\n",
      "8/8 [==============================] - 0s 32ms/step - loss: 0.0028\n",
      "Epoch 141/300\n",
      "8/8 [==============================] - 0s 32ms/step - loss: 0.0027\n",
      "Epoch 142/300\n",
      "8/8 [==============================] - 0s 31ms/step - loss: 0.0029\n",
      "Epoch 143/300\n",
      "8/8 [==============================] - 0s 32ms/step - loss: 0.0034\n",
      "Epoch 144/300\n",
      "8/8 [==============================] - 0s 35ms/step - loss: 0.0025\n",
      "Epoch 145/300\n",
      "8/8 [==============================] - 0s 33ms/step - loss: 0.0024\n",
      "Epoch 146/300\n",
      "8/8 [==============================] - 0s 32ms/step - loss: 0.0023\n",
      "Epoch 147/300\n",
      "8/8 [==============================] - 0s 31ms/step - loss: 0.0025\n",
      "Epoch 148/300\n",
      "8/8 [==============================] - 0s 34ms/step - loss: 0.0025\n",
      "Epoch 149/300\n",
      "8/8 [==============================] - 0s 32ms/step - loss: 0.0025\n",
      "Epoch 150/300\n",
      "8/8 [==============================] - 0s 33ms/step - loss: 0.0025\n",
      "Epoch 151/300\n",
      "8/8 [==============================] - 0s 32ms/step - loss: 0.0024\n",
      "Epoch 152/300\n",
      "8/8 [==============================] - 0s 32ms/step - loss: 0.0022\n",
      "Epoch 153/300\n",
      "8/8 [==============================] - 0s 32ms/step - loss: 0.0024\n",
      "Epoch 154/300\n",
      "8/8 [==============================] - 0s 31ms/step - loss: 0.0022\n",
      "Epoch 155/300\n",
      "8/8 [==============================] - 0s 32ms/step - loss: 0.0022\n",
      "Epoch 156/300\n",
      "8/8 [==============================] - 0s 31ms/step - loss: 0.0029\n",
      "Epoch 157/300\n",
      "8/8 [==============================] - 0s 31ms/step - loss: 0.0026\n",
      "Epoch 158/300\n",
      "8/8 [==============================] - 0s 31ms/step - loss: 0.0024\n",
      "Epoch 159/300\n",
      "8/8 [==============================] - 0s 37ms/step - loss: 0.0023\n",
      "Epoch 160/300\n",
      "8/8 [==============================] - 0s 36ms/step - loss: 0.0022\n",
      "Epoch 161/300\n",
      "8/8 [==============================] - 0s 51ms/step - loss: 0.0020\n",
      "Epoch 162/300\n",
      "8/8 [==============================] - 0s 32ms/step - loss: 0.0020\n",
      "Epoch 163/300\n",
      "8/8 [==============================] - 0s 32ms/step - loss: 0.0022\n",
      "Epoch 164/300\n",
      "8/8 [==============================] - 0s 47ms/step - loss: 0.0020\n",
      "Epoch 165/300\n",
      "8/8 [==============================] - 0s 47ms/step - loss: 0.0021\n",
      "Epoch 166/300\n",
      "8/8 [==============================] - 0s 47ms/step - loss: 0.0019\n",
      "Epoch 167/300\n",
      "8/8 [==============================] - 0s 46ms/step - loss: 0.0023\n",
      "Epoch 168/300\n",
      "8/8 [==============================] - 0s 42ms/step - loss: 0.0018\n",
      "Epoch 169/300\n",
      "8/8 [==============================] - 0s 30ms/step - loss: 0.0018\n",
      "Epoch 170/300\n",
      "8/8 [==============================] - 0s 42ms/step - loss: 0.0019\n",
      "Epoch 171/300\n",
      "8/8 [==============================] - 0s 48ms/step - loss: 0.0024\n",
      "Epoch 172/300\n",
      "8/8 [==============================] - 0s 44ms/step - loss: 0.0018\n",
      "Epoch 173/300\n",
      "8/8 [==============================] - 0s 43ms/step - loss: 0.0017\n",
      "Epoch 174/300\n",
      "8/8 [==============================] - 0s 47ms/step - loss: 0.0017\n",
      "Epoch 175/300\n",
      "8/8 [==============================] - 0s 42ms/step - loss: 0.0017\n",
      "Epoch 176/300\n",
      "8/8 [==============================] - 0s 43ms/step - loss: 0.0016\n",
      "Epoch 177/300\n",
      "8/8 [==============================] - 0s 43ms/step - loss: 0.0016\n",
      "Epoch 178/300\n",
      "8/8 [==============================] - 0s 29ms/step - loss: 0.0017\n",
      "Epoch 179/300\n",
      "8/8 [==============================] - 0s 29ms/step - loss: 0.0018\n",
      "Epoch 180/300\n",
      "8/8 [==============================] - 0s 38ms/step - loss: 0.0019\n",
      "Epoch 181/300\n",
      "8/8 [==============================] - 0s 43ms/step - loss: 0.0017\n",
      "Epoch 182/300\n",
      "8/8 [==============================] - 0s 44ms/step - loss: 0.0016\n",
      "Epoch 183/300\n",
      "8/8 [==============================] - 0s 30ms/step - loss: 0.0017\n",
      "Epoch 184/300\n",
      "8/8 [==============================] - 0s 30ms/step - loss: 0.0017\n",
      "Epoch 185/300\n",
      "8/8 [==============================] - 0s 29ms/step - loss: 0.0015\n",
      "Epoch 186/300\n",
      "8/8 [==============================] - 0s 30ms/step - loss: 0.0016\n",
      "Epoch 187/300\n",
      "8/8 [==============================] - 0s 30ms/step - loss: 0.0015\n",
      "Epoch 188/300\n",
      "8/8 [==============================] - 0s 30ms/step - loss: 0.0014\n",
      "Epoch 189/300\n",
      "8/8 [==============================] - 0s 48ms/step - loss: 0.0015\n",
      "Epoch 190/300\n",
      "8/8 [==============================] - 0s 48ms/step - loss: 0.0019\n",
      "Epoch 191/300\n",
      "8/8 [==============================] - 0s 48ms/step - loss: 0.0022\n",
      "Epoch 192/300\n",
      "8/8 [==============================] - 0s 33ms/step - loss: 0.0016\n",
      "Epoch 193/300\n",
      "8/8 [==============================] - 0s 32ms/step - loss: 0.0015\n",
      "Epoch 194/300\n",
      "8/8 [==============================] - 0s 32ms/step - loss: 0.0018\n",
      "Epoch 195/300\n",
      "8/8 [==============================] - 0s 32ms/step - loss: 0.0019\n",
      "Epoch 196/300\n",
      "8/8 [==============================] - 0s 45ms/step - loss: 0.0016\n",
      "Epoch 197/300\n",
      "8/8 [==============================] - 0s 31ms/step - loss: 0.0016\n",
      "Epoch 198/300\n",
      "8/8 [==============================] - 0s 33ms/step - loss: 0.0018\n",
      "Epoch 199/300\n",
      "8/8 [==============================] - 0s 35ms/step - loss: 0.0017\n",
      "Epoch 200/300\n",
      "8/8 [==============================] - 0s 36ms/step - loss: 0.0015\n",
      "Epoch 201/300\n",
      "8/8 [==============================] - 0s 33ms/step - loss: 0.0016\n",
      "Epoch 202/300\n",
      "8/8 [==============================] - 0s 37ms/step - loss: 0.0015\n",
      "Epoch 203/300\n",
      "8/8 [==============================] - 0s 36ms/step - loss: 0.0017\n",
      "Epoch 204/300\n",
      "8/8 [==============================] - 0s 34ms/step - loss: 0.0015\n",
      "Epoch 205/300\n",
      "8/8 [==============================] - 0s 34ms/step - loss: 0.0016\n",
      "Epoch 206/300\n",
      "8/8 [==============================] - 0s 35ms/step - loss: 0.0015\n",
      "Epoch 207/300\n",
      "8/8 [==============================] - 0s 34ms/step - loss: 0.0015\n",
      "Epoch 208/300\n",
      "8/8 [==============================] - 0s 36ms/step - loss: 0.0014\n",
      "Epoch 209/300\n",
      "8/8 [==============================] - 0s 35ms/step - loss: 0.0017\n",
      "Epoch 210/300\n",
      "8/8 [==============================] - 0s 32ms/step - loss: 0.0017\n",
      "Epoch 211/300\n",
      "8/8 [==============================] - 0s 33ms/step - loss: 0.0015\n",
      "Epoch 212/300\n",
      "8/8 [==============================] - 0s 33ms/step - loss: 0.0018\n",
      "Epoch 213/300\n",
      "8/8 [==============================] - 0s 35ms/step - loss: 0.0019\n",
      "Epoch 214/300\n",
      "8/8 [==============================] - 0s 34ms/step - loss: 0.0014\n",
      "Epoch 215/300\n",
      "8/8 [==============================] - 0s 32ms/step - loss: 0.0015\n",
      "Epoch 216/300\n",
      "8/8 [==============================] - 0s 33ms/step - loss: 0.0018\n",
      "Epoch 217/300\n",
      "8/8 [==============================] - 0s 34ms/step - loss: 0.0016\n",
      "Epoch 218/300\n",
      "8/8 [==============================] - 0s 36ms/step - loss: 0.0016\n",
      "Epoch 219/300\n",
      "8/8 [==============================] - 0s 33ms/step - loss: 0.0019\n",
      "Epoch 220/300\n",
      "8/8 [==============================] - 0s 36ms/step - loss: 0.0016\n",
      "Epoch 221/300\n",
      "8/8 [==============================] - 0s 34ms/step - loss: 0.0015\n",
      "Epoch 222/300\n",
      "8/8 [==============================] - 0s 34ms/step - loss: 0.0015\n",
      "Epoch 223/300\n",
      "8/8 [==============================] - 0s 33ms/step - loss: 0.0017\n",
      "Epoch 224/300\n",
      "8/8 [==============================] - 0s 37ms/step - loss: 0.0015\n",
      "Epoch 225/300\n",
      "8/8 [==============================] - 0s 34ms/step - loss: 0.0015\n",
      "Epoch 226/300\n",
      "8/8 [==============================] - 0s 34ms/step - loss: 0.0016\n",
      "Epoch 227/300\n",
      "8/8 [==============================] - 0s 35ms/step - loss: 0.0014\n",
      "Epoch 228/300\n",
      "8/8 [==============================] - 0s 36ms/step - loss: 0.0013\n",
      "Epoch 229/300\n",
      "8/8 [==============================] - 0s 35ms/step - loss: 0.0013\n",
      "Epoch 230/300\n",
      "8/8 [==============================] - 0s 33ms/step - loss: 0.0015\n",
      "Epoch 231/300\n",
      "8/8 [==============================] - 0s 35ms/step - loss: 0.0013\n",
      "Epoch 232/300\n",
      "8/8 [==============================] - 0s 39ms/step - loss: 0.0015\n",
      "Epoch 233/300\n",
      "8/8 [==============================] - 0s 39ms/step - loss: 0.0013\n",
      "Epoch 234/300\n",
      "8/8 [==============================] - 0s 41ms/step - loss: 0.0016\n",
      "Epoch 235/300\n",
      "8/8 [==============================] - 0s 42ms/step - loss: 0.0022\n",
      "Epoch 236/300\n",
      "8/8 [==============================] - 0s 35ms/step - loss: 0.0020\n",
      "Epoch 237/300\n",
      "8/8 [==============================] - 0s 36ms/step - loss: 0.0014\n",
      "Epoch 238/300\n",
      "8/8 [==============================] - 0s 40ms/step - loss: 0.0018\n",
      "Epoch 239/300\n",
      "8/8 [==============================] - 0s 35ms/step - loss: 0.0014\n",
      "Epoch 240/300\n",
      "8/8 [==============================] - 0s 37ms/step - loss: 0.0015\n",
      "Epoch 241/300\n",
      "8/8 [==============================] - 0s 36ms/step - loss: 0.0014\n",
      "Epoch 242/300\n",
      "8/8 [==============================] - 0s 34ms/step - loss: 0.0015\n",
      "Epoch 243/300\n",
      "8/8 [==============================] - 0s 42ms/step - loss: 0.0015\n",
      "Epoch 244/300\n",
      "8/8 [==============================] - 0s 35ms/step - loss: 0.0015\n",
      "Epoch 245/300\n",
      "8/8 [==============================] - 0s 30ms/step - loss: 0.0016\n",
      "Epoch 246/300\n",
      "8/8 [==============================] - 0s 31ms/step - loss: 0.0014\n",
      "Epoch 247/300\n",
      "8/8 [==============================] - 0s 30ms/step - loss: 0.0013\n",
      "Epoch 248/300\n",
      "8/8 [==============================] - 0s 29ms/step - loss: 0.0013\n",
      "Epoch 249/300\n",
      "8/8 [==============================] - 0s 36ms/step - loss: 0.0015\n",
      "Epoch 250/300\n",
      "8/8 [==============================] - 0s 39ms/step - loss: 0.0020\n",
      "Epoch 251/300\n",
      "8/8 [==============================] - 0s 38ms/step - loss: 0.0017\n",
      "Epoch 252/300\n",
      "8/8 [==============================] - 0s 31ms/step - loss: 0.0017\n",
      "Epoch 253/300\n",
      "8/8 [==============================] - 0s 33ms/step - loss: 0.0012\n",
      "Epoch 254/300\n",
      "8/8 [==============================] - 0s 33ms/step - loss: 0.0012\n",
      "Epoch 255/300\n",
      "8/8 [==============================] - 0s 32ms/step - loss: 0.0013\n",
      "Epoch 256/300\n",
      "8/8 [==============================] - 0s 31ms/step - loss: 0.0014\n",
      "Epoch 257/300\n",
      "8/8 [==============================] - 0s 34ms/step - loss: 0.0012\n",
      "Epoch 258/300\n",
      "8/8 [==============================] - 0s 34ms/step - loss: 0.0012\n",
      "Epoch 259/300\n",
      "8/8 [==============================] - 0s 31ms/step - loss: 0.0012\n",
      "Epoch 260/300\n",
      "8/8 [==============================] - 0s 33ms/step - loss: 0.0016\n",
      "Epoch 261/300\n",
      "8/8 [==============================] - 0s 33ms/step - loss: 0.0014\n",
      "Epoch 262/300\n",
      "8/8 [==============================] - 0s 30ms/step - loss: 0.0012\n",
      "Epoch 263/300\n",
      "8/8 [==============================] - 0s 31ms/step - loss: 0.0012\n",
      "Epoch 264/300\n",
      "8/8 [==============================] - 0s 34ms/step - loss: 0.0011\n",
      "Epoch 265/300\n",
      "8/8 [==============================] - 0s 32ms/step - loss: 0.0013\n",
      "Epoch 266/300\n",
      "8/8 [==============================] - 0s 31ms/step - loss: 0.0014\n",
      "Epoch 267/300\n",
      "8/8 [==============================] - 0s 31ms/step - loss: 0.0013\n",
      "Epoch 268/300\n",
      "8/8 [==============================] - 0s 33ms/step - loss: 0.0012\n",
      "Epoch 269/300\n",
      "8/8 [==============================] - 0s 30ms/step - loss: 0.0013\n",
      "Epoch 270/300\n",
      "8/8 [==============================] - 0s 33ms/step - loss: 0.0011\n",
      "Epoch 271/300\n",
      "8/8 [==============================] - 0s 31ms/step - loss: 0.0010\n",
      "Epoch 272/300\n",
      "8/8 [==============================] - 0s 31ms/step - loss: 0.0012\n",
      "Epoch 273/300\n",
      "8/8 [==============================] - 0s 30ms/step - loss: 0.0012\n",
      "Epoch 274/300\n",
      "8/8 [==============================] - 0s 29ms/step - loss: 0.0012\n",
      "Epoch 275/300\n",
      "8/8 [==============================] - 0s 32ms/step - loss: 0.0011\n",
      "Epoch 276/300\n",
      "8/8 [==============================] - 0s 36ms/step - loss: 0.0011\n",
      "Epoch 277/300\n",
      "8/8 [==============================] - 0s 31ms/step - loss: 0.0011\n",
      "Epoch 278/300\n",
      "8/8 [==============================] - 0s 29ms/step - loss: 0.0011\n",
      "Epoch 279/300\n",
      "8/8 [==============================] - 0s 33ms/step - loss: 0.0012\n",
      "Epoch 280/300\n",
      "8/8 [==============================] - 0s 32ms/step - loss: 0.0012\n",
      "Epoch 281/300\n",
      "8/8 [==============================] - 0s 33ms/step - loss: 0.0012\n",
      "Epoch 282/300\n",
      "8/8 [==============================] - 0s 30ms/step - loss: 0.0014\n",
      "Epoch 283/300\n",
      "8/8 [==============================] - 0s 32ms/step - loss: 0.0015\n",
      "Epoch 284/300\n",
      "8/8 [==============================] - 0s 35ms/step - loss: 0.0017\n",
      "Epoch 285/300\n",
      "8/8 [==============================] - 0s 31ms/step - loss: 0.0012\n",
      "Epoch 286/300\n",
      "8/8 [==============================] - 0s 31ms/step - loss: 0.0014\n",
      "Epoch 287/300\n",
      "8/8 [==============================] - 0s 31ms/step - loss: 0.0014\n",
      "Epoch 288/300\n",
      "8/8 [==============================] - 0s 33ms/step - loss: 0.0013\n",
      "Epoch 289/300\n",
      "8/8 [==============================] - 0s 32ms/step - loss: 0.0013\n",
      "Epoch 290/300\n",
      "8/8 [==============================] - 0s 31ms/step - loss: 0.0011\n",
      "Epoch 291/300\n",
      "8/8 [==============================] - 0s 30ms/step - loss: 0.0013\n",
      "Epoch 292/300\n",
      "8/8 [==============================] - 0s 34ms/step - loss: 0.0012\n",
      "Epoch 293/300\n",
      "8/8 [==============================] - 0s 33ms/step - loss: 0.0015\n",
      "Epoch 294/300\n",
      "8/8 [==============================] - 0s 30ms/step - loss: 0.0014\n",
      "Epoch 295/300\n",
      "8/8 [==============================] - 0s 30ms/step - loss: 0.0012\n",
      "Epoch 296/300\n",
      "8/8 [==============================] - 0s 33ms/step - loss: 0.0011\n",
      "Epoch 297/300\n",
      "8/8 [==============================] - 0s 32ms/step - loss: 0.0011\n",
      "Epoch 298/300\n",
      "8/8 [==============================] - 0s 33ms/step - loss: 0.0013\n",
      "Epoch 299/300\n",
      "8/8 [==============================] - 0s 32ms/step - loss: 0.0012\n",
      "Epoch 300/300\n",
      "8/8 [==============================] - 0s 30ms/step - loss: 0.0012\n"
     ]
    },
    {
     "data": {
      "text/plain": [
       "<keras.src.callbacks.History at 0x1f0045b5710>"
      ]
     },
     "execution_count": 28,
     "metadata": {},
     "output_type": "execute_result"
    }
   ],
   "source": [
    "model.fit(x_train,y_train,epochs=300, verbose=1, )"
   ]
  },
  {
   "cell_type": "code",
   "execution_count": 29,
   "metadata": {},
   "outputs": [],
   "source": [
    "# model.evaluate(x_test, y_test)"
   ]
  },
  {
   "cell_type": "markdown",
   "metadata": {},
   "source": [
    "### Predictions and Model evaluation"
   ]
  },
  {
   "cell_type": "markdown",
   "metadata": {},
   "source": [
    "Predictions on training set"
   ]
  },
  {
   "cell_type": "code",
   "execution_count": 30,
   "metadata": {},
   "outputs": [
    {
     "name": "stdout",
     "output_type": "stream",
     "text": [
      "8/8 [==============================] - 2s 12ms/step\n",
      "Predicted Value 0.18675768\n",
      "Expected value 0.19999999999999996\n"
     ]
    }
   ],
   "source": [
    "print(\"Predicted Value\",model.predict(x_train)[4][0])\n",
    "print(\"Expected value\",y_train[4][0])"
   ]
  },
  {
   "cell_type": "markdown",
   "metadata": {},
   "source": [
    "Predictions on testing set"
   ]
  },
  {
   "cell_type": "code",
   "execution_count": 31,
   "metadata": {},
   "outputs": [
    {
     "name": "stdout",
     "output_type": "stream",
     "text": [
      "4/4 [==============================] - 0s 12ms/step\n"
     ]
    }
   ],
   "source": [
    "predictions=model.predict(x_test)"
   ]
  },
  {
   "cell_type": "code",
   "execution_count": 32,
   "metadata": {},
   "outputs": [
    {
     "name": "stdout",
     "output_type": "stream",
     "text": [
      "Predicted Value 0.5002442\n",
      "Expected Value 0.5\n"
     ]
    }
   ],
   "source": [
    "print(\"Predicted Value\",predictions[2][0])\n",
    "print(\"Expected Value\",y_test[2][0])"
   ]
  },
  {
   "cell_type": "code",
   "execution_count": 33,
   "metadata": {},
   "outputs": [
    {
     "data": {
      "text/plain": [
       "(108, 1)"
      ]
     },
     "execution_count": 33,
     "metadata": {},
     "output_type": "execute_result"
    }
   ],
   "source": [
    "predictions.shape"
   ]
  },
  {
   "cell_type": "code",
   "execution_count": 34,
   "metadata": {},
   "outputs": [
    {
     "data": {
      "text/plain": [
       "(108, 1)"
      ]
     },
     "execution_count": 34,
     "metadata": {},
     "output_type": "execute_result"
    }
   ],
   "source": [
    "y_test.shape"
   ]
  },
  {
   "cell_type": "code",
   "execution_count": 35,
   "metadata": {},
   "outputs": [],
   "source": [
    "pred_df=pd.DataFrame(predictions)"
   ]
  },
  {
   "cell_type": "code",
   "execution_count": 36,
   "metadata": {},
   "outputs": [],
   "source": [
    "pred_df['TrueValues']=y_test"
   ]
  },
  {
   "cell_type": "code",
   "execution_count": 37,
   "metadata": {},
   "outputs": [],
   "source": [
    "pred_df_new = pred_df.rename(columns={ 0: 'Predictions'})"
   ]
  },
  {
   "cell_type": "code",
   "execution_count": 38,
   "metadata": {},
   "outputs": [
    {
     "data": {
      "text/html": [
       "<div>\n",
       "<style scoped>\n",
       "    .dataframe tbody tr th:only-of-type {\n",
       "        vertical-align: middle;\n",
       "    }\n",
       "\n",
       "    .dataframe tbody tr th {\n",
       "        vertical-align: top;\n",
       "    }\n",
       "\n",
       "    .dataframe thead th {\n",
       "        text-align: right;\n",
       "    }\n",
       "</style>\n",
       "<table border=\"1\" class=\"dataframe\">\n",
       "  <thead>\n",
       "    <tr style=\"text-align: right;\">\n",
       "      <th></th>\n",
       "      <th>Predictions</th>\n",
       "      <th>TrueValues</th>\n",
       "    </tr>\n",
       "  </thead>\n",
       "  <tbody>\n",
       "    <tr>\n",
       "      <th>0</th>\n",
       "      <td>0.594868</td>\n",
       "      <td>0.55</td>\n",
       "    </tr>\n",
       "    <tr>\n",
       "      <th>1</th>\n",
       "      <td>0.551112</td>\n",
       "      <td>0.50</td>\n",
       "    </tr>\n",
       "    <tr>\n",
       "      <th>2</th>\n",
       "      <td>0.500244</td>\n",
       "      <td>0.50</td>\n",
       "    </tr>\n",
       "    <tr>\n",
       "      <th>3</th>\n",
       "      <td>0.483719</td>\n",
       "      <td>0.45</td>\n",
       "    </tr>\n",
       "    <tr>\n",
       "      <th>4</th>\n",
       "      <td>0.446580</td>\n",
       "      <td>0.40</td>\n",
       "    </tr>\n",
       "    <tr>\n",
       "      <th>...</th>\n",
       "      <td>...</td>\n",
       "      <td>...</td>\n",
       "    </tr>\n",
       "    <tr>\n",
       "      <th>103</th>\n",
       "      <td>0.450381</td>\n",
       "      <td>0.45</td>\n",
       "    </tr>\n",
       "    <tr>\n",
       "      <th>104</th>\n",
       "      <td>0.434778</td>\n",
       "      <td>0.45</td>\n",
       "    </tr>\n",
       "    <tr>\n",
       "      <th>105</th>\n",
       "      <td>0.434148</td>\n",
       "      <td>0.40</td>\n",
       "    </tr>\n",
       "    <tr>\n",
       "      <th>106</th>\n",
       "      <td>0.398855</td>\n",
       "      <td>0.40</td>\n",
       "    </tr>\n",
       "    <tr>\n",
       "      <th>107</th>\n",
       "      <td>0.408563</td>\n",
       "      <td>0.45</td>\n",
       "    </tr>\n",
       "  </tbody>\n",
       "</table>\n",
       "<p>108 rows × 2 columns</p>\n",
       "</div>"
      ],
      "text/plain": [
       "     Predictions  TrueValues\n",
       "0       0.594868        0.55\n",
       "1       0.551112        0.50\n",
       "2       0.500244        0.50\n",
       "3       0.483719        0.45\n",
       "4       0.446580        0.40\n",
       "..           ...         ...\n",
       "103     0.450381        0.45\n",
       "104     0.434778        0.45\n",
       "105     0.434148        0.40\n",
       "106     0.398855        0.40\n",
       "107     0.408563        0.45\n",
       "\n",
       "[108 rows x 2 columns]"
      ]
     },
     "execution_count": 38,
     "metadata": {},
     "output_type": "execute_result"
    }
   ],
   "source": [
    "pred_df_new"
   ]
  },
  {
   "cell_type": "code",
   "execution_count": 39,
   "metadata": {},
   "outputs": [
    {
     "data": {
      "text/plain": [
       "Text(0.5, 1.0, 'Predictions VS True Values on Testing Set')"
      ]
     },
     "execution_count": 39,
     "metadata": {},
     "output_type": "execute_result"
    },
    {
     "data": {
      "image/png": "[encoded data removed]",
      "text/plain": [
       "<Figure size 1200x800 with 1 Axes>"
      ]
     },
     "metadata": {},
     "output_type": "display_data"
    }
   ],
   "source": [
    "plt.figure(figsize=(12,8))\n",
    "sns.lineplot(data= pred_df_new)\n",
    "plt.title(\"Predictions VS True Values on Testing Set\")"
   ]
  },
  {
   "cell_type": "code",
   "execution_count": null,
   "metadata": {},
   "outputs": [],
   "source": []
  },
  {
   "cell_type": "markdown",
   "metadata": {},
   "source": [
    "### Weather Predictions for next 30 Days"
   ]
  },
  {
   "cell_type": "markdown",
   "metadata": {},
   "source": [
    "we are using last 10 days input for 1st day output"
   ]
  },
  {
   "cell_type": "code",
   "execution_count": 40,
   "metadata": {},
   "outputs": [
    {
     "data": {
      "text/plain": [
       "(365, 1)"
      ]
     },
     "execution_count": 40,
     "metadata": {},
     "output_type": "execute_result"
    }
   ],
   "source": [
    "data_scaled.shape"
   ]
  },
  {
   "cell_type": "code",
   "execution_count": 41,
   "metadata": {},
   "outputs": [],
   "source": [
    "x_input=data_scaled[:20]"
   ]
  },
  {
   "cell_type": "code",
   "execution_count": 42,
   "metadata": {},
   "outputs": [
    {
     "data": {
      "text/plain": [
       "(20, 1)"
      ]
     },
     "execution_count": 42,
     "metadata": {},
     "output_type": "execute_result"
    }
   ],
   "source": [
    "x_input.shape"
   ]
  },
  {
   "cell_type": "code",
   "execution_count": 43,
   "metadata": {},
   "outputs": [],
   "source": [
    "# now reshaping the data\n",
    "x_input = x_input.reshape(1, -1)"
   ]
  },
  {
   "cell_type": "code",
   "execution_count": 44,
   "metadata": {},
   "outputs": [
    {
     "data": {
      "text/plain": [
       "(1, 20)"
      ]
     },
     "execution_count": 44,
     "metadata": {},
     "output_type": "execute_result"
    }
   ],
   "source": [
    "x_input.shape"
   ]
  },
  {
   "cell_type": "code",
   "execution_count": 45,
   "metadata": {},
   "outputs": [],
   "source": [
    "# x_input = x_input.reshape((1, 20,1))\n",
    "# yhat = model.predict(x_input, verbose=0)"
   ]
  },
  {
   "cell_type": "code",
   "execution_count": 46,
   "metadata": {},
   "outputs": [],
   "source": [
    "temp_input = list(x_input)\n",
    "temp_input = temp_input[0].tolist()"
   ]
  },
  {
   "cell_type": "markdown",
   "metadata": {},
   "source": [
    "creatitng a  functions which returns the next 30 days prediction"
   ]
  },
  {
   "cell_type": "code",
   "execution_count": 47,
   "metadata": {},
   "outputs": [
    {
     "name": "stdout",
     "output_type": "stream",
     "text": [
      "[0.24730003]\n",
      "1 day input [0.25       0.25       0.2        0.25       0.3        0.4\n",
      " 0.5        0.65       0.75       0.8        0.85       0.9\n",
      " 0.75       0.6        0.4        0.35       0.35       0.3\n",
      " 0.25       0.24730003]\n",
      "1 day output [[0.23335347]]\n",
      "2 day input [0.25       0.2        0.25       0.3        0.4        0.5\n",
      " 0.65       0.75       0.8        0.85       0.9        0.75\n",
      " 0.6        0.4        0.35       0.35       0.3        0.25\n",
      " 0.24730003 0.23335347]\n",
      "2 day output [[0.22740388]]\n",
      "3 day input [0.2        0.25       0.3        0.4        0.5        0.65\n",
      " 0.75       0.8        0.85       0.9        0.75       0.6\n",
      " 0.4        0.35       0.35       0.3        0.25       0.24730003\n",
      " 0.23335347 0.22740388]\n",
      "3 day output [[0.22215818]]\n",
      "4 day input [0.25       0.3        0.4        0.5        0.65       0.75\n",
      " 0.8        0.85       0.9        0.75       0.6        0.4\n",
      " 0.35       0.35       0.3        0.25       0.24730003 0.23335347\n",
      " 0.22740388 0.22215818]\n",
      "4 day output [[0.21122563]]\n",
      "5 day input [0.3        0.4        0.5        0.65       0.75       0.8\n",
      " 0.85       0.9        0.75       0.6        0.4        0.35\n",
      " 0.35       0.3        0.25       0.24730003 0.23335347 0.22740388\n",
      " 0.22215818 0.21122563]\n",
      "5 day output [[0.18336931]]\n",
      "6 day input [0.4        0.5        0.65       0.75       0.8        0.85\n",
      " 0.9        0.75       0.6        0.4        0.35       0.35\n",
      " 0.3        0.25       0.24730003 0.23335347 0.22740388 0.22215818\n",
      " 0.21122563 0.18336931]\n",
      "6 day output [[0.13140087]]\n",
      "7 day input [0.5        0.65       0.75       0.8        0.85       0.9\n",
      " 0.75       0.6        0.4        0.35       0.35       0.3\n",
      " 0.25       0.24730003 0.23335347 0.22740388 0.22215818 0.21122563\n",
      " 0.18336931 0.13140087]\n",
      "7 day output [[0.0839693]]\n",
      "8 day input [0.65       0.75       0.8        0.85       0.9        0.75\n",
      " 0.6        0.4        0.35       0.35       0.3        0.25\n",
      " 0.24730003 0.23335347 0.22740388 0.22215818 0.21122563 0.18336931\n",
      " 0.13140087 0.0839693 ]\n",
      "8 day output [[0.1264514]]\n",
      "9 day input [0.75       0.8        0.85       0.9        0.75       0.6\n",
      " 0.4        0.35       0.35       0.3        0.25       0.24730003\n",
      " 0.23335347 0.22740388 0.22215818 0.21122563 0.18336931 0.13140087\n",
      " 0.0839693  0.1264514 ]\n",
      "9 day output [[0.26679784]]\n",
      "10 day input [0.8        0.85       0.9        0.75       0.6        0.4\n",
      " 0.35       0.35       0.3        0.25       0.24730003 0.23335347\n",
      " 0.22740388 0.22215818 0.21122563 0.18336931 0.13140087 0.0839693\n",
      " 0.1264514  0.26679784]\n",
      "10 day output [[0.39566764]]\n",
      "11 day input [0.85       0.9        0.75       0.6        0.4        0.35\n",
      " 0.35       0.3        0.25       0.24730003 0.23335347 0.22740388\n",
      " 0.22215818 0.21122563 0.18336931 0.13140087 0.0839693  0.1264514\n",
      " 0.26679784 0.39566764]\n",
      "11 day output [[0.5068148]]\n",
      "12 day input [0.9        0.75       0.6        0.4        0.35       0.35\n",
      " 0.3        0.25       0.24730003 0.23335347 0.22740388 0.22215818\n",
      " 0.21122563 0.18336931 0.13140087 0.0839693  0.1264514  0.26679784\n",
      " 0.39566764 0.50681478]\n",
      "12 day output [[0.6158689]]\n",
      "13 day input [0.75       0.6        0.4        0.35       0.35       0.3\n",
      " 0.25       0.24730003 0.23335347 0.22740388 0.22215818 0.21122563\n",
      " 0.18336931 0.13140087 0.0839693  0.1264514  0.26679784 0.39566764\n",
      " 0.50681478 0.61586893]\n",
      "13 day output [[0.71594447]]\n",
      "14 day input [0.6        0.4        0.35       0.35       0.3        0.25\n",
      " 0.24730003 0.23335347 0.22740388 0.22215818 0.21122563 0.18336931\n",
      " 0.13140087 0.0839693  0.1264514  0.26679784 0.39566764 0.50681478\n",
      " 0.61586893 0.71594447]\n",
      "14 day output [[0.7892948]]\n",
      "15 day input [0.4        0.35       0.35       0.3        0.25       0.24730003\n",
      " 0.23335347 0.22740388 0.22215818 0.21122563 0.18336931 0.13140087\n",
      " 0.0839693  0.1264514  0.26679784 0.39566764 0.50681478 0.61586893\n",
      " 0.71594447 0.78929478]\n",
      "15 day output [[0.83071816]]\n",
      "16 day input [0.35       0.35       0.3        0.25       0.24730003 0.23335347\n",
      " 0.22740388 0.22215818 0.21122563 0.18336931 0.13140087 0.0839693\n",
      " 0.1264514  0.26679784 0.39566764 0.50681478 0.61586893 0.71594447\n",
      " 0.78929478 0.83071816]\n",
      "16 day output [[0.88037556]]\n",
      "17 day input [0.35       0.3        0.25       0.24730003 0.23335347 0.22740388\n",
      " 0.22215818 0.21122563 0.18336931 0.13140087 0.0839693  0.1264514\n",
      " 0.26679784 0.39566764 0.50681478 0.61586893 0.71594447 0.78929478\n",
      " 0.83071816 0.88037556]\n",
      "17 day output [[0.80439353]]\n",
      "18 day input [0.3        0.25       0.24730003 0.23335347 0.22740388 0.22215818\n",
      " 0.21122563 0.18336931 0.13140087 0.0839693  0.1264514  0.26679784\n",
      " 0.39566764 0.50681478 0.61586893 0.71594447 0.78929478 0.83071816\n",
      " 0.88037556 0.80439353]\n",
      "18 day output [[0.621825]]\n",
      "19 day input [0.25       0.24730003 0.23335347 0.22740388 0.22215818 0.21122563\n",
      " 0.18336931 0.13140087 0.0839693  0.1264514  0.26679784 0.39566764\n",
      " 0.50681478 0.61586893 0.71594447 0.78929478 0.83071816 0.88037556\n",
      " 0.80439353 0.62182498]\n",
      "19 day output [[0.43325117]]\n",
      "20 day input [0.24730003 0.23335347 0.22740388 0.22215818 0.21122563 0.18336931\n",
      " 0.13140087 0.0839693  0.1264514  0.26679784 0.39566764 0.50681478\n",
      " 0.61586893 0.71594447 0.78929478 0.83071816 0.88037556 0.80439353\n",
      " 0.62182498 0.43325117]\n",
      "20 day output [[0.35612553]]\n",
      "21 day input [0.23335347 0.22740388 0.22215818 0.21122563 0.18336931 0.13140087\n",
      " 0.0839693  0.1264514  0.26679784 0.39566764 0.50681478 0.61586893\n",
      " 0.71594447 0.78929478 0.83071816 0.88037556 0.80439353 0.62182498\n",
      " 0.43325117 0.35612553]\n",
      "21 day output [[0.3619191]]\n",
      "22 day input [0.22740388 0.22215818 0.21122563 0.18336931 0.13140087 0.0839693\n",
      " 0.1264514  0.26679784 0.39566764 0.50681478 0.61586893 0.71594447\n",
      " 0.78929478 0.83071816 0.88037556 0.80439353 0.62182498 0.43325117\n",
      " 0.35612553 0.36191911]\n",
      "22 day output [[0.36737052]]\n",
      "23 day input [0.22215818 0.21122563 0.18336931 0.13140087 0.0839693  0.1264514\n",
      " 0.26679784 0.39566764 0.50681478 0.61586893 0.71594447 0.78929478\n",
      " 0.83071816 0.88037556 0.80439353 0.62182498 0.43325117 0.35612553\n",
      " 0.36191911 0.36737052]\n",
      "23 day output [[0.35519964]]\n",
      "24 day input [0.21122563 0.18336931 0.13140087 0.0839693  0.1264514  0.26679784\n",
      " 0.39566764 0.50681478 0.61586893 0.71594447 0.78929478 0.83071816\n",
      " 0.88037556 0.80439353 0.62182498 0.43325117 0.35612553 0.36191911\n",
      " 0.36737052 0.35519964]\n",
      "24 day output [[0.3323204]]\n",
      "25 day input [0.18336931 0.13140087 0.0839693  0.1264514  0.26679784 0.39566764\n",
      " 0.50681478 0.61586893 0.71594447 0.78929478 0.83071816 0.88037556\n",
      " 0.80439353 0.62182498 0.43325117 0.35612553 0.36191911 0.36737052\n",
      " 0.35519964 0.33232039]\n",
      "25 day output [[0.31108373]]\n",
      "26 day input [0.13140087 0.0839693  0.1264514  0.26679784 0.39566764 0.50681478\n",
      " 0.61586893 0.71594447 0.78929478 0.83071816 0.88037556 0.80439353\n",
      " 0.62182498 0.43325117 0.35612553 0.36191911 0.36737052 0.35519964\n",
      " 0.33232039 0.31108373]\n",
      "26 day output [[0.29474738]]\n",
      "27 day input [0.0839693  0.1264514  0.26679784 0.39566764 0.50681478 0.61586893\n",
      " 0.71594447 0.78929478 0.83071816 0.88037556 0.80439353 0.62182498\n",
      " 0.43325117 0.35612553 0.36191911 0.36737052 0.35519964 0.33232039\n",
      " 0.31108373 0.29474738]\n",
      "27 day output [[0.282431]]\n",
      "28 day input [0.1264514  0.26679784 0.39566764 0.50681478 0.61586893 0.71594447\n",
      " 0.78929478 0.83071816 0.88037556 0.80439353 0.62182498 0.43325117\n",
      " 0.35612553 0.36191911 0.36737052 0.35519964 0.33232039 0.31108373\n",
      " 0.29474738 0.28243101]\n",
      "28 day output [[0.27539158]]\n",
      "29 day input [0.26679784 0.39566764 0.50681478 0.61586893 0.71594447 0.78929478\n",
      " 0.83071816 0.88037556 0.80439353 0.62182498 0.43325117 0.35612553\n",
      " 0.36191911 0.36737052 0.35519964 0.33232039 0.31108373 0.29474738\n",
      " 0.28243101 0.27539158]\n",
      "29 day output [[0.27206892]]\n",
      "[[0.24730002880096436], [0.23335346579551697], [0.22740387916564941], [0.22215817868709564], [0.21122562885284424], [0.18336930871009827], [0.13140086829662323], [0.08396929502487183], [0.12645140290260315], [0.26679784059524536], [0.3956676423549652], [0.5068147778511047], [0.6158689260482788], [0.7159444689750671], [0.7892947793006897], [0.8307181596755981], [0.8803755640983582], [0.8043935298919678], [0.6218249797821045], [0.43325117230415344], [0.35612553358078003], [0.361919105052948], [0.36737051606178284], [0.3551996350288391], [0.3323203921318054], [0.31108373403549194], [0.29474738240242004], [0.2824310064315796], [0.2753915786743164], [0.27206891775131226]]\n"
     ]
    }
   ],
   "source": [
    "# demonstrate prediction for next 10 days\n",
    "from numpy import array\n",
    "\n",
    "lst_output=[]\n",
    "n_steps=20\n",
    "i=0\n",
    "while(i<30):\n",
    "    \n",
    "    if(len(temp_input)>20):\n",
    "        #print(temp_input)\n",
    "        x_input=np.array(temp_input[1:])\n",
    "        print(\"{} day input {}\".format(i,x_input))\n",
    "        x_input=x_input.reshape(1,-1)\n",
    "        x_input = x_input.reshape((1, n_steps, 1))\n",
    "        #print(x_input)\n",
    "        yhat = model.predict(x_input, verbose=0)\n",
    "        print(\"{} day output {}\".format(i,yhat))\n",
    "        temp_input.extend(yhat[0].tolist())\n",
    "        temp_input=temp_input[1:]\n",
    "        #print(temp_input)\n",
    "        lst_output.extend(yhat.tolist())\n",
    "        i=i+1\n",
    "    else:\n",
    "        x_input = x_input.reshape((1, n_steps,1))\n",
    "        yhat = model.predict(x_input, verbose=0)\n",
    "        print(yhat[0])\n",
    "        temp_input.extend(yhat[0].tolist())\n",
    "#         print(len(temp_input))\n",
    "        lst_output.extend(yhat.tolist())\n",
    "        i=i+1\n",
    "    \n",
    "\n",
    "print(lst_output)"
   ]
  },
  {
   "cell_type": "code",
   "execution_count": 48,
   "metadata": {},
   "outputs": [
    {
     "data": {
      "text/plain": [
       "array([[0.25],\n",
       "       [0.25],\n",
       "       [0.25],\n",
       "       [0.2 ],\n",
       "       [0.25]])"
      ]
     },
     "execution_count": 48,
     "metadata": {},
     "output_type": "execute_result"
    }
   ],
   "source": [
    "data_scaled[:5]"
   ]
  },
  {
   "cell_type": "code",
   "execution_count": 49,
   "metadata": {},
   "outputs": [
    {
     "data": {
      "text/plain": [
       "[<matplotlib.lines.Line2D at 0x1f00ae28610>]"
      ]
     },
     "execution_count": 49,
     "metadata": {},
     "output_type": "execute_result"
    },
    {
     "data": {
      "image/png": "[encoded data removed]",
      "text/plain": [
       "<Figure size 1200x800 with 1 Axes>"
      ]
     },
     "metadata": {},
     "output_type": "display_data"
    }
   ],
   "source": [
    "df3 = data_scaled.tolist()\n",
    "df3.extend(lst_output)\n",
    "plt.figure(figsize=(12,8))\n",
    "plt.plot(df3)\n"
   ]
  },
  {
   "cell_type": "code",
   "execution_count": null,
   "metadata": {},
   "outputs": [],
   "source": []
  }
 ],
 "metadata": {
  "kernelspec": {
   "display_name": "Python 3 (ipykernel)",
   "language": "python",
   "name": "python3"
  },
  "language_info": {
   "codemirror_mode": {
    "name": "ipython",
    "version": 3
   },
   "file_extension": ".py",
   "mimetype": "text/x-python",
   "name": "python",
   "nbconvert_exporter": "python",
   "pygments_lexer": "ipython3",
   "version": "3.11.4"
  }
 },
 "nbformat": 4,
 "nbformat_minor": 4
}
